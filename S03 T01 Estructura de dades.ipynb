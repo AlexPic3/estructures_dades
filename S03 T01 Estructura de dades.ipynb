{
 "cells": [
  {
   "cell_type": "markdown",
   "id": "f55a9412",
   "metadata": {
    "toc": true
   },
   "source": [
    "<h1>Table of Contents<span class=\"tocSkip\"></span></h1>\n",
    "<div class=\"toc\"><ul class=\"toc-item\"><li><span><a href=\"#S03-T01-Estructura-de-dades\" data-toc-modified-id=\"S03-T01-Estructura-de-dades-1\"><span class=\"toc-item-num\">1&nbsp;&nbsp;</span>S03 T01 Estructura de dades</a></span><ul class=\"toc-item\"><li><span><a href=\"#Exercici-1\" data-toc-modified-id=\"Exercici-1-1.1\"><span class=\"toc-item-num\">1.1&nbsp;&nbsp;</span>Exercici 1</a></span></li><li><span><a href=\"#Exercici-2\" data-toc-modified-id=\"Exercici-2-1.2\"><span class=\"toc-item-num\">1.2&nbsp;&nbsp;</span>Exercici 2</a></span></li><li><span><a href=\"#Exercici-3\" data-toc-modified-id=\"Exercici-3-1.3\"><span class=\"toc-item-num\">1.3&nbsp;&nbsp;</span>Exercici 3</a></span><ul class=\"toc-item\"><li><span><a href=\"#Crea-una-llista-amb-nombres-desordenats-i-respon-a-les-següents-preguntes:\" data-toc-modified-id=\"Crea-una-llista-amb-nombres-desordenats-i-respon-a-les-següents-preguntes:-1.3.1\"><span class=\"toc-item-num\">1.3.1&nbsp;&nbsp;</span>Crea una llista amb nombres desordenats i respon a les següents preguntes:</a></span><ul class=\"toc-item\"><li><span><a href=\"#Quants-números-hi-ha?\" data-toc-modified-id=\"Quants-números-hi-ha?-1.3.1.1\"><span class=\"toc-item-num\">1.3.1.1&nbsp;&nbsp;</span>Quants números hi ha?</a></span></li><li><span><a href=\"#Quantes-vegades-apareix-el-número-3\" data-toc-modified-id=\"Quantes-vegades-apareix-el-número-3-1.3.1.2\"><span class=\"toc-item-num\">1.3.1.2&nbsp;&nbsp;</span>Quantes vegades apareix el número 3</a></span></li><li><span><a href=\"#Quantes-vegades-apareixen-els-nombres-3-i-4?\" data-toc-modified-id=\"Quantes-vegades-apareixen-els-nombres-3-i-4?-1.3.1.3\"><span class=\"toc-item-num\">1.3.1.3&nbsp;&nbsp;</span>Quantes vegades apareixen els nombres 3 i 4?</a></span></li><li><span><a href=\"#Quin-és-el-número-més-gran?\" data-toc-modified-id=\"Quin-és-el-número-més-gran?-1.3.1.4\"><span class=\"toc-item-num\">1.3.1.4&nbsp;&nbsp;</span>Quin és el número més gran?</a></span></li><li><span><a href=\"#Quins-són-els-3-números-més-petits?\" data-toc-modified-id=\"Quins-són-els-3-números-més-petits?-1.3.1.5\"><span class=\"toc-item-num\">1.3.1.5&nbsp;&nbsp;</span>Quins són els 3 números més petits?</a></span></li><li><span><a href=\"#Quin-és-el-rang-d’aquesta-llista?\" data-toc-modified-id=\"Quin-és-el-rang-d’aquesta-llista?-1.3.1.6\"><span class=\"toc-item-num\">1.3.1.6&nbsp;&nbsp;</span>Quin és el rang d’aquesta llista?</a></span></li></ul></li></ul></li><li><span><a href=\"#Exercici-4\" data-toc-modified-id=\"Exercici-4-1.4\"><span class=\"toc-item-num\">1.4&nbsp;&nbsp;</span>Exercici 4</a></span><ul class=\"toc-item\"><li><span><a href=\"#Afegeix-alguna-fruita-més\" data-toc-modified-id=\"Afegeix-alguna-fruita-més-1.4.1\"><span class=\"toc-item-num\">1.4.1&nbsp;&nbsp;</span>Afegeix alguna fruita més</a></span></li><li><span><a href=\"#Quant-han-costat-les-peres-en-total?\" data-toc-modified-id=\"Quant-han-costat-les-peres-en-total?-1.4.2\"><span class=\"toc-item-num\">1.4.2&nbsp;&nbsp;</span>Quant han costat les peres en total?</a></span></li><li><span><a href=\"#Quantes-fruites-hem-comprat-en-total?\" data-toc-modified-id=\"Quantes-fruites-hem-comprat-en-total?-1.4.3\"><span class=\"toc-item-num\">1.4.3&nbsp;&nbsp;</span>Quantes fruites hem comprat en total?</a></span></li><li><span><a href=\"#Quina-és-la-fruita-més-cara?\" data-toc-modified-id=\"Quina-és-la-fruita-més-cara?-1.4.4\"><span class=\"toc-item-num\">1.4.4&nbsp;&nbsp;</span>Quina és la fruita més cara?</a></span></li></ul></li></ul></li></ul></div>"
   ]
  },
  {
   "cell_type": "markdown",
   "id": "ac8645ca",
   "metadata": {},
   "source": [
    "# S03 T01 Estructura de dades"
   ]
  },
  {
   "cell_type": "markdown",
   "id": "f1a55201",
   "metadata": {
    "ExecuteTime": {
     "end_time": "2021-09-14T13:55:27.091797Z",
     "start_time": "2021-09-14T13:55:27.080826Z"
    }
   },
   "source": [
    "## Exercici 1\n",
    "Crea una llista que agrupi els mesos de l’any en trimestres (1T: Gener, Febrer i Març, 2T: Abril, Maig, Juny...), és a dir, una llista amb 4 llistes dins."
   ]
  },
  {
   "cell_type": "code",
   "execution_count": 15,
   "id": "0b7b4c23",
   "metadata": {
    "ExecuteTime": {
     "end_time": "2021-09-20T13:48:08.723113Z",
     "start_time": "2021-09-20T13:48:08.716160Z"
    }
   },
   "outputs": [
    {
     "name": "stdout",
     "output_type": "stream",
     "text": [
      "La llista de llistes es: \n",
      "[['Gener', 'Febrer', 'Març'], ['Abril', 'Maig', 'Juny'], ['Juliol', 'Agost', 'Setembre'], ['Octubre', 'Novembre', 'Decembre']]\n",
      "----------------------------------------------------------\n",
      "La llista fusionada es:  ['Gener', 'Febrer', 'Març', 'Abril', 'Maig', 'Juny', 'Juliol', 'Agost', 'Setembre', 'Octubre', 'Novembre', 'Decembre']\n"
     ]
    }
   ],
   "source": [
    "t1 = [\"Gener\", \"Febrer\", \"Març\"]\n",
    "t2 = [\"Abril\", \"Maig\", \"Juny\"]\n",
    "t3 = [\"Juliol\", \"Agost\", \"Setembre\"]\n",
    "t4 = [\"Octubre\", \"Novembre\", \"Decembre\"]\n",
    "any = [t1,t2,t3,t4]\n",
    "# print (type(any))\n",
    "print (\"La llista de llistes es: \", any, sep='\\n')\n",
    "#print (any[0], any[1], any[2], any[3], sep= \"\\n\")\n",
    "print(\"----------------------------------------------------------\")\n",
    "# Prova de fusionar més d´una llista.\n",
    "any1 = t1+t2+t3+t4\n",
    "print (\"La llista fusionada es: \", any1)\n"
   ]
  },
  {
   "cell_type": "markdown",
   "id": "663ef669",
   "metadata": {
    "ExecuteTime": {
     "end_time": "2021-09-14T13:55:57.317863Z",
     "start_time": "2021-09-14T13:55:57.312849Z"
    }
   },
   "source": [
    "## Exercici 2\n",
    "\n",
    "Crea un codi que et permeti accedir a:\n",
    "* El segon mes del primer trimestre\n",
    "* Els mesos del primer trimestre\n",
    "* Setembre i octubre"
   ]
  },
  {
   "cell_type": "code",
   "execution_count": 2,
   "id": "187971f8",
   "metadata": {
    "ExecuteTime": {
     "end_time": "2021-09-16T17:13:03.496515Z",
     "start_time": "2021-09-16T17:13:03.483521Z"
    }
   },
   "outputs": [
    {
     "name": "stdout",
     "output_type": "stream",
     "text": [
      "Febrer\n",
      "['Gener', 'Febrer', 'Març']\n",
      "Setembre i Octubre\n"
     ]
    }
   ],
   "source": [
    "# El segon mes del primer trimestre.\n",
    "print(any[0][1])\n",
    "# Els mesos del primer trimestre.\n",
    "print(any[0])\n",
    "# Setembre i octubre.\n",
    "print (any[2][2], \"i\", any[3][0])"
   ]
  },
  {
   "cell_type": "markdown",
   "id": "78678fbd",
   "metadata": {},
   "source": [
    "## Exercici 3"
   ]
  },
  {
   "cell_type": "markdown",
   "id": "a950900f",
   "metadata": {},
   "source": [
    "### Crea una llista amb nombres desordenats i respon a les següents preguntes:"
   ]
  },
  {
   "cell_type": "code",
   "execution_count": 16,
   "id": "1b6c33cd",
   "metadata": {
    "ExecuteTime": {
     "end_time": "2021-09-20T13:49:40.667923Z",
     "start_time": "2021-09-20T13:49:38.139631Z"
    }
   },
   "outputs": [
    {
     "name": "stdout",
     "output_type": "stream",
     "text": [
      "Introdueix el nombre de valors numèrics de la llista: \n",
      "50\n",
      "[8, 4, 17, 1, 13, 10, 10, 8, 16, 18, 7, 14, 11, 3, 19, 3, 12, 11, 1, 13, 17, 1, 17, 14, 2, 11, 13, 3, 5, 8, 2, 5, 6, 14, 12, 17, 12, 15, 16, 14, 12, 16, 10, 10, 5, 2, 14, 8, 11, 15]\n"
     ]
    }
   ],
   "source": [
    "#Creacio de la llista\n",
    "import random\n",
    "llistaNum = []\n",
    "numItems = int(input (\"Introdueix el nombre de valors numèrics de la llista: \\n\"))\n",
    "i = 0\n",
    "while i < numItems:\n",
    "    llistaNum.append(random.randrange(1,20,1))\n",
    "    i += 1\n",
    "print (llistaNum)"
   ]
  },
  {
   "cell_type": "markdown",
   "id": "a1ba2b67",
   "metadata": {},
   "source": [
    "#### Quants números hi ha?"
   ]
  },
  {
   "cell_type": "code",
   "execution_count": 17,
   "id": "0fe09c13",
   "metadata": {
    "ExecuteTime": {
     "end_time": "2021-09-20T13:49:52.410555Z",
     "start_time": "2021-09-20T13:49:52.403574Z"
    }
   },
   "outputs": [
    {
     "name": "stdout",
     "output_type": "stream",
     "text": [
      "Dins la llista hi han 50 numeros\n"
     ]
    }
   ],
   "source": [
    "# Quants números hi ha?\n",
    "print (\"Dins la llista hi han\", len(llistaNum), \"numeros\")"
   ]
  },
  {
   "cell_type": "markdown",
   "id": "89bcfdd7",
   "metadata": {},
   "source": [
    "#### Quantes vegades apareix el número 3"
   ]
  },
  {
   "cell_type": "code",
   "execution_count": 18,
   "id": "f3757043",
   "metadata": {
    "ExecuteTime": {
     "end_time": "2021-09-20T13:50:08.556299Z",
     "start_time": "2021-09-20T13:50:08.547300Z"
    }
   },
   "outputs": [
    {
     "name": "stdout",
     "output_type": "stream",
     "text": [
      "Dins de la llista de numeros hi han, 3 objecte/es de valor  3\n"
     ]
    }
   ],
   "source": [
    "# Quantes vegades apareix el número 3?\n",
    "num3 = 3\n",
    "contador = 0\n",
    "\n",
    "for i in llistaNum:\n",
    "    if i == num3:\n",
    "        contador +=1\n",
    "if contador == 0:\n",
    "    print (\"Dins de la llista de números no hi ha cap\", num3)\n",
    "else:        \n",
    "    print (\"Dins de la llista de numeros hi han,\", contador,\\\n",
    "           \"objecte/es de valor \", num3)\n"
   ]
  },
  {
   "cell_type": "markdown",
   "id": "91a1102b",
   "metadata": {},
   "source": [
    "#### Quantes vegades apareixen els nombres 3 i 4?"
   ]
  },
  {
   "cell_type": "code",
   "execution_count": 19,
   "id": "1618d03f",
   "metadata": {
    "ExecuteTime": {
     "end_time": "2021-09-20T13:50:19.853543Z",
     "start_time": "2021-09-20T13:50:19.843569Z"
    }
   },
   "outputs": [
    {
     "name": "stdout",
     "output_type": "stream",
     "text": [
      "Dins de la llista de numeros hi han, 3 objecte/es de valor  3 \n",
      " i 1 objecte/es de valor  4\n"
     ]
    }
   ],
   "source": [
    "# Quantes vegades apareixen els nombres 3 i 4?\n",
    "num3 = 3\n",
    "num4 = 4\n",
    "contador3 = 0\n",
    "contador4 = 0\n",
    "\n",
    "for i in llistaNum:\n",
    "    if i == num3:\n",
    "        contador3 +=1\n",
    "    elif i == num4:\n",
    "        contador4 +=1\n",
    "if contador3 == 0:\n",
    "    print (\"Dins de la llista de números no hi ha cap\", num3)\n",
    "if contador4 == 0:\n",
    "    print (\"Dins de la llista de números no hi ha cap\", num4)\n",
    "else:\n",
    "     print (\"Dins de la llista de numeros hi han,\", contador3,\\\n",
    "           \"objecte/es de valor \", num3, \"\\n\", \"i\", contador4,\\\n",
    "           \"objecte/es de valor \", num4)\n"
   ]
  },
  {
   "cell_type": "markdown",
   "id": "8f60bb92",
   "metadata": {},
   "source": [
    "#### Quin és el número més gran?"
   ]
  },
  {
   "cell_type": "code",
   "execution_count": 20,
   "id": "8c1331af",
   "metadata": {
    "ExecuteTime": {
     "end_time": "2021-09-20T13:50:28.285563Z",
     "start_time": "2021-09-20T13:50:28.267611Z"
    }
   },
   "outputs": [
    {
     "name": "stdout",
     "output_type": "stream",
     "text": [
      "El maxim valor en la llista es:  19\n"
     ]
    }
   ],
   "source": [
    "# Quin és el número més gran?\n",
    "valorMax = max(llistaNum)\n",
    "print (\"El maxim valor en la llista es: \",valorMax)"
   ]
  },
  {
   "cell_type": "markdown",
   "id": "cd8bc061",
   "metadata": {},
   "source": [
    "#### Quins són els 3 números més petits?"
   ]
  },
  {
   "cell_type": "code",
   "execution_count": 22,
   "id": "94d8de15",
   "metadata": {
    "ExecuteTime": {
     "end_time": "2021-09-20T13:53:53.167809Z",
     "start_time": "2021-09-20T13:53:50.435608Z"
    }
   },
   "outputs": [
    {
     "name": "stdout",
     "output_type": "stream",
     "text": [
      "{1, 2, 3, 4, 5, 6, 7, 8, 10, 11, 12, 13, 14, 15, 16, 17, 18, 19}\n",
      "[1, 2, 3, 4, 5, 6, 7, 8, 10, 11, 12, 13, 14, 15, 16, 17, 18, 19]\n",
      "[1, 2, 3, 4, 5, 6, 7, 8, 10, 11, 12, 13, 14, 15, 16, 17, 18, 19]\n",
      "Defineix la quantitat dels valors mes petits de la lista5\n",
      "Els 5 valors més petits son:  [1, 2, 3, 4, 5]\n"
     ]
    }
   ],
   "source": [
    "# Quins són els 3 números més petits?\n",
    "# Convertim el Llistat a un Set perquè així eliminarem tots els duplicats,\n",
    "# ja que el set no accepta valors repetits.\n",
    "llSet = set(llistaNum)\n",
    "print (llSet)\n",
    "# Ara tornem a convertir el Set a una Llista per posteriorment, ordenar-la de\n",
    "# de forma ascendent.\n",
    "ll1 = list(llSet)\n",
    "print (ll1)\n",
    "ll1.sort\n",
    "print (ll1)\n",
    "\n",
    "#El exercici em demana veure els 3 valors mes petits, pero al afegir al codi\n",
    "#la opcio de demanar aquest valor practico el formateix del print.\n",
    "quNu= int(input (\"Defineix la quantitat dels valors mes petits de la lista\"))\n",
    "print (f\"Els {quNu} valors més petits son: \", ll1[:quNu])\n"
   ]
  },
  {
   "cell_type": "markdown",
   "id": "6937c393",
   "metadata": {
    "ExecuteTime": {
     "end_time": "2021-09-14T16:34:55.817977Z",
     "start_time": "2021-09-14T16:34:55.809998Z"
    }
   },
   "source": [
    "#### Quin és el rang d’aquesta llista?"
   ]
  },
  {
   "cell_type": "code",
   "execution_count": 23,
   "id": "c5a952ac",
   "metadata": {
    "ExecuteTime": {
     "end_time": "2021-09-20T13:54:01.035964Z",
     "start_time": "2021-09-20T13:54:01.020007Z"
    }
   },
   "outputs": [
    {
     "name": "stdout",
     "output_type": "stream",
     "text": [
      "[1, 2, 3, 4, 5, 6, 7, 8, 10, 11, 12, 13, 14, 15, 16, 17, 18, 19]\n",
      "El numero més gran es 19\n",
      "El numero més petit es 1\n",
      "El rang d´aquesta llista de numeros es: 18\n"
     ]
    }
   ],
   "source": [
    "# Quin és el rang d’aquesta llista?\n",
    "\n",
    "#Aprofitarem la llista LL1.sort per escollir els dos valors de l'extrem com\n",
    "#a valor mínim i valor màxim respectivament.\n",
    "print (ll1)\n",
    "print (f\"El numero més gran es {ll1[len(ll1)-1]}\")\n",
    "print (f\"El numero més petit es {ll1[0]}\")      \n",
    "rang = int(ll1[len(ll1)-1]) - int(ll1[0])\n",
    "print (f\"El rang d´aquesta llista de numeros es: {rang}\")\n",
    "\n"
   ]
  },
  {
   "cell_type": "markdown",
   "id": "d45016b3",
   "metadata": {},
   "source": [
    "## Exercici 4\n",
    "\n",
    "* Crea un diccionari de la següent forma i respon a les preguntes:\n",
    "* **compra = { \"Pomes\" : {\"Qty\": 5, \"€\": 0.42}, \"Peres\" : {\"Qty\": 3, \"€\": 0.66} }**\n"
   ]
  },
  {
   "cell_type": "code",
   "execution_count": 29,
   "id": "68d16168",
   "metadata": {
    "ExecuteTime": {
     "end_time": "2021-09-20T14:00:20.225366Z",
     "start_time": "2021-09-20T14:00:20.219380Z"
    }
   },
   "outputs": [
    {
     "name": "stdout",
     "output_type": "stream",
     "text": [
      "{'Pomes': {'Qty': 5, '€': 0.42}, 'Peres': {'Qty': 3, '€': 0.66}}\n",
      "{'Qty': 5, '€': 0.42}\n",
      "2\n",
      "<class 'dict'>\n",
      "Print de items:\n",
      " dict_items([('Pomes', {'Qty': 5, '€': 0.42}), ('Peres', {'Qty': 3, '€': 0.66})])\n",
      "Print de keys:\n",
      " dict_keys(['Pomes', 'Peres'])\n",
      "Print de values:\n",
      " dict_values([{'Qty': 5, '€': 0.42}, {'Qty': 3, '€': 0.66}])\n"
     ]
    }
   ],
   "source": [
    "compra = { \"Pomes\" : {\"Qty\": 5, \"€\": 0.42}, \"Peres\" : {\"Qty\": 3, \"€\": 0.66} }\n",
    "print (compra)\n",
    "print(compra[\"Pomes\"])\n",
    "print(len(compra))\n",
    "print(type(compra))\n",
    "print(\"Print de items:\\n\", compra.items())\n",
    "print(\"Print de keys:\\n\", compra.keys())\n",
    "print(\"Print de values:\\n\", compra.values())"
   ]
  },
  {
   "cell_type": "markdown",
   "id": "4e781038",
   "metadata": {},
   "source": [
    "### Afegeix alguna fruita més"
   ]
  },
  {
   "cell_type": "code",
   "execution_count": 38,
   "id": "c5be17f9",
   "metadata": {
    "ExecuteTime": {
     "end_time": "2021-09-20T14:07:09.891058Z",
     "start_time": "2021-09-20T14:07:09.883083Z"
    }
   },
   "outputs": [
    {
     "name": "stdout",
     "output_type": "stream",
     "text": [
      "{'Pomes': {'Qty': 5, '€': 0.42}, 'Peres': {'Qty': 3, '€': 0.66}, 'Taronges': {'Qty': 10, '€': 1.54}, 'Platans': {'Qty': 7, '€': 0.42}, 'Kiwis': {'Qty': 6, '€': 2.35}}\n"
     ]
    }
   ],
   "source": [
    "compra[\"Taronges\"] = {\"Qty\": 10, \"€\": 1.54}\n",
    "# print (compra)\n",
    "# El Diccionari No accepta duplicats\n",
    "compra[\"Pomes\"] = {\"Qty\": 5, \"€\": 0.42}\n",
    "# print (compra)\n",
    "\n",
    "compra[\"Platans\"] = {\"Qty\":7, \"€\": 0.42}\n",
    "# print (compra)\n",
    "\n",
    "compra['Kiwis'] = {\"Qty\": 6, \"€\": 2.35}\n",
    "print (compra)\n"
   ]
  },
  {
   "cell_type": "markdown",
   "id": "0660a7a0",
   "metadata": {},
   "source": [
    "### Quant han costat les peres en total?"
   ]
  },
  {
   "cell_type": "code",
   "execution_count": 39,
   "id": "2e1f5fd6",
   "metadata": {
    "ExecuteTime": {
     "end_time": "2021-09-20T14:07:12.619242Z",
     "start_time": "2021-09-20T14:07:12.611263Z"
    }
   },
   "outputs": [
    {
     "name": "stdout",
     "output_type": "stream",
     "text": [
      "El cost total de les Peres, es:  1.98 €\n"
     ]
    }
   ],
   "source": [
    "costPeres = (compra['Peres']['Qty'])*(compra['Peres'][\"€\"])\n",
    "print(\"El cost total de les Peres, es: \",costPeres, \"€\")\n"
   ]
  },
  {
   "cell_type": "markdown",
   "id": "27b948fe",
   "metadata": {
    "ExecuteTime": {
     "end_time": "2021-09-15T16:22:55.935643Z",
     "start_time": "2021-09-15T16:22:55.931656Z"
    }
   },
   "source": [
    "### Quantes fruites hem comprat en total?"
   ]
  },
  {
   "cell_type": "code",
   "execution_count": 40,
   "id": "720470ba",
   "metadata": {
    "ExecuteTime": {
     "end_time": "2021-09-20T14:07:15.160049Z",
     "start_time": "2021-09-20T14:07:15.139098Z"
    }
   },
   "outputs": [
    {
     "name": "stdout",
     "output_type": "stream",
     "text": [
      "Pomes,Peres,Taronges,Platans,Kiwis,\n",
      "\n",
      "La quantitat de fruites dins del diccionari anidat es :  31\n",
      "\n",
      "\n",
      "La quantitat de fruites dins del diccionari anidat es :  31\n"
     ]
    }
   ],
   "source": [
    "for fruita in compra:\n",
    "    print (fruita, end=',')\n",
    "print(\"\\n\")\n",
    "suma = 0\n",
    "for fruita in compra.items():\n",
    "    #print (fruita)\n",
    "    #print(fruita[1]['Qty'])\n",
    "    suma += fruita[1]['Qty']\n",
    "    \n",
    "print (\"La quantitat de fruites dins del diccionari anidat es : \", suma)\n",
    "print(\"\\n\")\n",
    "sume = 0\n",
    "for fruita, info in compra.items():\n",
    "    #print (info)\n",
    "    sume += info['Qty']\n",
    "    \n",
    "print (\"La quantitat de fruites dins del diccionari anidat es : \", sume)    \n",
    "\n",
    "    "
   ]
  },
  {
   "cell_type": "markdown",
   "id": "c20643c4",
   "metadata": {},
   "source": [
    "### Quina és la fruita més cara?"
   ]
  },
  {
   "cell_type": "code",
   "execution_count": 41,
   "id": "14ab999f",
   "metadata": {
    "ExecuteTime": {
     "end_time": "2021-09-20T14:07:17.954815Z",
     "start_time": "2021-09-20T14:07:17.947834Z"
    }
   },
   "outputs": [
    {
     "name": "stdout",
     "output_type": "stream",
     "text": [
      "La fruita mes cara es:  Kiwis , amb un cost de: 2.35\n"
     ]
    }
   ],
   "source": [
    "# Esbrinar quina es la fruita més cara\n",
    "#compra = { \"Pomes\" : {\"Qty\": 5, \"€\": 0.42}, \"Peres\" : {\"Qty\": 3, \"€\": 0.66} }\n",
    "maxi =0\n",
    "itemax = \"\"\n",
    "i = 0\n",
    "for fruita, info in compra.items():\n",
    "    #print (\"Numero pos\", i,\"..\", fruita, info)\n",
    "    preu = info[\"€\"]\n",
    "    #print (preu, \"€\")\n",
    "    i += 1\n",
    "    if preu > maxi:\n",
    "        maxi =preu\n",
    "        itemax = fruita\n",
    "print (\"La fruita mes cara es: \", itemax, \", amb un cost de:\", maxi)        "
   ]
  },
  {
   "cell_type": "code",
   "execution_count": null,
   "id": "b0774723",
   "metadata": {},
   "outputs": [],
   "source": []
  }
 ],
 "metadata": {
  "kernelspec": {
   "display_name": "Python 3 (ipykernel)",
   "language": "python",
   "name": "python3"
  },
  "language_info": {
   "codemirror_mode": {
    "name": "ipython",
    "version": 3
   },
   "file_extension": ".py",
   "mimetype": "text/x-python",
   "name": "python",
   "nbconvert_exporter": "python",
   "pygments_lexer": "ipython3",
   "version": "3.8.10"
  },
  "toc": {
   "base_numbering": 1,
   "nav_menu": {},
   "number_sections": true,
   "sideBar": true,
   "skip_h1_title": false,
   "title_cell": "Table of Contents",
   "title_sidebar": "Contents",
   "toc_cell": true,
   "toc_position": {},
   "toc_section_display": true,
   "toc_window_display": false
  },
  "varInspector": {
   "cols": {
    "lenName": 16,
    "lenType": 16,
    "lenVar": 40
   },
   "kernels_config": {
    "python": {
     "delete_cmd_postfix": "",
     "delete_cmd_prefix": "del ",
     "library": "var_list.py",
     "varRefreshCmd": "print(var_dic_list())"
    },
    "r": {
     "delete_cmd_postfix": ") ",
     "delete_cmd_prefix": "rm(",
     "library": "var_list.r",
     "varRefreshCmd": "cat(var_dic_list()) "
    }
   },
   "oldHeight": 122,
   "position": {
    "height": "144px",
    "left": "583px",
    "right": "20px",
    "top": "130px",
    "width": "350px"
   },
   "types_to_exclude": [
    "module",
    "function",
    "builtin_function_or_method",
    "instance",
    "_Feature"
   ],
   "varInspector_section_display": "block",
   "window_display": false
  }
 },
 "nbformat": 4,
 "nbformat_minor": 5
}
